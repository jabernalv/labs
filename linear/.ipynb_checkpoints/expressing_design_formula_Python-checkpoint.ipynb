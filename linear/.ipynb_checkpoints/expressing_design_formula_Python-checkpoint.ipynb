{
 "cells": [
  {
   "cell_type": "markdown",
   "id": "52b01a49-54b8-4c27-9b42-928da09ca565",
   "metadata": {},
   "source": [
    "## La matriz de diseño\n",
    "\n",
    "Aquí mostraremos cómo usar las dos funciones de R, `formula` y `model.matrix`, para producir *matrices de diseño* (también conocidas como *matrices de modelo*) para una variedad de modelos lineales. Por ejemplo, en los ejemplos de la dieta del ratón escribimos el modelo como\n",
    "\n",
    "$$ \n",
    "Y_i = \\beta_0 + \\beta_1 x_i + \\varepsilon_i, i=1,\\dots,N \n",
    "$$\n",
    "\n",
    "con $Y_i$ los pesos y $x_i$ igual a 1 solo cuando el ratón $i$ recibe la dieta alta en grasas. Usamos el término _unidad experimental_ para $N$ entidades diferentes de las que obtenemos una medida. En este caso, los ratones son las unidades experimentales.\n",
    "\n",
    "Este es el tipo de variable en el que nos centraremos en este capítulo. Las llamamos _variables indicadoras_ ya que simplemente indican si la unidad experimental tenía o no una determinada característica. Como describimos anteriormente, podemos usar álgebra lineal para representar este modelo:\n",
    "\n",
    "$$\n",
    "\\mathbf{Y} = \\begin{pmatrix}\n",
    "Y_1\\\\\n",
    "Y_2\\\\\n",
    "\\vdots\\\\\n",
    "Y_N\n",
    "\\end{pmatrix}\n",
    ",\n",
    "\\mathbf{X} = \\begin{pmatrix}\n",
    "1&x_1\\\\\n",
    "1&x_2\\\\\n",
    "\\vdots\\\\\n",
    "1&x_N\n",
    "\\end{pmatrix}\n",
    ",\n",
    "\\boldsymbol{\\beta} = \\begin{pmatrix}\n",
    "\\beta_0\\\\\n",
    "\\beta_1\n",
    "\\end{pmatrix} \\mbox{ and }\n",
    "\\boldsymbol{\\varepsilon} = \\begin{pmatrix}\n",
    "\\varepsilon_1\\\\\n",
    "\\varepsilon_2\\\\\n",
    "\\vdots\\\\\n",
    "\\varepsilon_N\n",
    "\\end{pmatrix}\n",
    "$$\n",
    "\n",
    "como:\n",
    "\n",
    "$$\n",
    "\\,\n",
    "\\begin{pmatrix}\n",
    "Y_1\\\\\n",
    "Y_2\\\\\n",
    "\\vdots\\\\\n",
    "Y_N\n",
    "\\end{pmatrix} = \n",
    "\\begin{pmatrix}\n",
    "1&x_1\\\\\n",
    "1&x_2\\\\\n",
    "\\vdots\\\\\n",
    "1&x_N\n",
    "\\end{pmatrix}\n",
    "\\begin{pmatrix}\n",
    "\\beta_0\\\\\n",
    "\\beta_1\n",
    "\\end{pmatrix} +\n",
    "\\begin{pmatrix}\n",
    "\\varepsilon_1\\\\\n",
    "\\varepsilon_2\\\\\n",
    "\\vdots\\\\\n",
    "\\varepsilon_N\n",
    "\\end{pmatrix}\n",
    "$$\n",
    "\n",
    "o más simple:\n",
    "\n",
    "$$\n",
    "\\mathbf{Y}=\\mathbf{X}\\boldsymbol{\\beta}+\\boldsymbol{\\varepsilon}\n",
    "$$\n",
    "\n",
    "La matriz de diseño es la matriz $\\mathbf{X}$.\n",
    "\n",
    "Una vez que definimos una matriz de diseño, estamos listos para encontrar las estimaciones de mínimos cuadrados. Nos referimos a esto como _ajustarse al modelo_. Para ajustar modelos lineales en R, proporcionaremos directamente una _fórmula_ a la función `lm`. En este script, usaremos la función `model.matrix`, que es utilizada internamente por la función `lm`. Esto nos ayudará a conectar la `formula` de R con la matriz $\\mathbf{X}$. Por lo tanto, nos ayudará a interpretar los resultados de `lm`.\n",
    "\n",
    "#### Elección del diseño\n",
    "\n",
    "La elección de la matriz de diseño es un paso crítico en el modelado lineal, ya que codifica qué coeficientes se ajustarán al modelo, así como la interrelación entre las muestras.\n",
    "Un malentendido común es que la elección del diseño se deriva directamente de una descripción de las muestras que se incluyeron en el experimento. Este no es el caso. La información básica sobre cada muestra (ya sea grupo de control o tratamiento, lote experimental, etc.) no implica una única matriz de diseño 'correcta'. La matriz de diseño codifica además varios supuestos sobre cómo las variables en $\\mathbf{X}$ explican los valores observados en $\\mathbf{Y}$, sobre los cuales el investigador debe decidir.\n",
    "\n",
    "Para los ejemplos que cubrimos aquí, usamos modelos lineales para hacer comparaciones entre diferentes grupos. Por lo tanto, las matrices de diseño con las que finalmente trabajaremos tendrán al menos dos columnas: una columna de _intercepción_, que consta de una columna de 1, y una segunda columna, que especifica qué muestras están en un segundo grupo. En este caso, se ajustan dos coeficientes en el modelo lineal: el intercepto, que representa el promedio poblacional del primer grupo, y un segundo coeficiente, que representa la diferencia entre los promedios poblacionales del segundo grupo y el primer grupo. Este último suele ser el coeficiente que nos interesa cuando realizamos pruebas estadísticas: queremos saber si hay una diferencia entre los dos grupos.\n",
    "\n",
    "Codificamos este diseño experimental en R con dos piezas. Comenzamos con una fórmula con el símbolo de tilde `~`. Esto significa que queremos modelar las observaciones usando las variables a la derecha de la tilde. Luego ponemos el nombre de una variable, que nos dice qué muestras están en qué grupo.\n",
    "\n",
    "Probemos un ejemplo. Supongamos que tenemos dos grupos, control y dieta alta en grasas, con dos muestras cada uno. Con fines ilustrativos, los codificaremos con 1 y 2 respectivamente. Primero debemos decirle a R que estos valores no deben interpretarse numéricamente, sino como diferentes niveles de un *factor*. Entonces podemos usar el paradigma `~ grupo` para, por ejemplo, modelar sobre la variable `grupo`."
   ]
  },
  {
   "cell_type": "code",
   "execution_count": 17,
   "id": "d6f312b5-5b0c-4bbd-953f-46ed9aa31e28",
   "metadata": {},
   "outputs": [
    {
     "data": {
      "text/html": [
       "<table class=\"dataframe\">\n",
       "<caption>A matrix: 4 × 2 of type dbl</caption>\n",
       "<thead>\n",
       "\t<tr><th></th><th scope=col>(Intercept)</th><th scope=col>group2</th></tr>\n",
       "</thead>\n",
       "<tbody>\n",
       "\t<tr><th scope=row>1</th><td>1</td><td>0</td></tr>\n",
       "\t<tr><th scope=row>2</th><td>1</td><td>0</td></tr>\n",
       "\t<tr><th scope=row>3</th><td>1</td><td>1</td></tr>\n",
       "\t<tr><th scope=row>4</th><td>1</td><td>1</td></tr>\n",
       "</tbody>\n",
       "</table>\n"
      ],
      "text/latex": [
       "A matrix: 4 × 2 of type dbl\n",
       "\\begin{tabular}{r|ll}\n",
       "  & (Intercept) & group2\\\\\n",
       "\\hline\n",
       "\t1 & 1 & 0\\\\\n",
       "\t2 & 1 & 0\\\\\n",
       "\t3 & 1 & 1\\\\\n",
       "\t4 & 1 & 1\\\\\n",
       "\\end{tabular}\n"
      ],
      "text/markdown": [
       "\n",
       "A matrix: 4 × 2 of type dbl\n",
       "\n",
       "| <!--/--> | (Intercept) | group2 |\n",
       "|---|---|---|\n",
       "| 1 | 1 | 0 |\n",
       "| 2 | 1 | 0 |\n",
       "| 3 | 1 | 1 |\n",
       "| 4 | 1 | 1 |\n",
       "\n"
      ],
      "text/plain": [
       "  (Intercept) group2\n",
       "1 1           0     \n",
       "2 1           0     \n",
       "3 1           1     \n",
       "4 1           1     "
      ]
     },
     "metadata": {},
     "output_type": "display_data"
    }
   ],
   "source": [
    "group <- factor( c(1,1,2,2) )\n",
    "model.matrix(~ group)"
   ]
  },
  {
   "cell_type": "markdown",
   "id": "876b4195-5b19-4b16-b136-714a4837087e",
   "metadata": {},
   "source": [
    "(No se preocupe por las líneas `attr` impresas debajo de la matriz. No usaremos esta información).\n",
    "\n",
    "¿Qué pasa con la función `formula`? No tenemos que incluir esto. Al comenzar una expresión con `~`, es equivalente a decirle a R que la expresión es una fórmula:"
   ]
  },
  {
   "cell_type": "code",
   "execution_count": 18,
   "id": "ccc7019f-2ed3-42b6-a8df-8080f3fe0a77",
   "metadata": {},
   "outputs": [
    {
     "data": {
      "text/html": [
       "<table class=\"dataframe\">\n",
       "<caption>A matrix: 4 × 2 of type dbl</caption>\n",
       "<thead>\n",
       "\t<tr><th></th><th scope=col>(Intercept)</th><th scope=col>group2</th></tr>\n",
       "</thead>\n",
       "<tbody>\n",
       "\t<tr><th scope=row>1</th><td>1</td><td>0</td></tr>\n",
       "\t<tr><th scope=row>2</th><td>1</td><td>0</td></tr>\n",
       "\t<tr><th scope=row>3</th><td>1</td><td>1</td></tr>\n",
       "\t<tr><th scope=row>4</th><td>1</td><td>1</td></tr>\n",
       "</tbody>\n",
       "</table>\n"
      ],
      "text/latex": [
       "A matrix: 4 × 2 of type dbl\n",
       "\\begin{tabular}{r|ll}\n",
       "  & (Intercept) & group2\\\\\n",
       "\\hline\n",
       "\t1 & 1 & 0\\\\\n",
       "\t2 & 1 & 0\\\\\n",
       "\t3 & 1 & 1\\\\\n",
       "\t4 & 1 & 1\\\\\n",
       "\\end{tabular}\n"
      ],
      "text/markdown": [
       "\n",
       "A matrix: 4 × 2 of type dbl\n",
       "\n",
       "| <!--/--> | (Intercept) | group2 |\n",
       "|---|---|---|\n",
       "| 1 | 1 | 0 |\n",
       "| 2 | 1 | 0 |\n",
       "| 3 | 1 | 1 |\n",
       "| 4 | 1 | 1 |\n",
       "\n"
      ],
      "text/plain": [
       "  (Intercept) group2\n",
       "1 1           0     \n",
       "2 1           0     \n",
       "3 1           1     \n",
       "4 1           1     "
      ]
     },
     "metadata": {},
     "output_type": "display_data"
    }
   ],
   "source": [
    "model.matrix(formula(~ group))"
   ]
  },
  {
   "cell_type": "markdown",
   "id": "a175327c-e236-42b8-91ca-22dea4e35dc1",
   "metadata": {},
   "source": [
    "¿Qué sucede si no le decimos a R que `group` debe interpretarse como un factor?"
   ]
  },
  {
   "cell_type": "code",
   "execution_count": 3,
   "id": "564f483a-11a3-4b5f-be71-5256245cbb95",
   "metadata": {},
   "outputs": [
    {
     "data": {
      "text/html": [
       "<table class=\"dataframe\">\n",
       "<caption>A matrix: 4 × 2 of type dbl</caption>\n",
       "<thead>\n",
       "\t<tr><th></th><th scope=col>(Intercept)</th><th scope=col>group</th></tr>\n",
       "</thead>\n",
       "<tbody>\n",
       "\t<tr><th scope=row>1</th><td>1</td><td>1</td></tr>\n",
       "\t<tr><th scope=row>2</th><td>1</td><td>1</td></tr>\n",
       "\t<tr><th scope=row>3</th><td>1</td><td>2</td></tr>\n",
       "\t<tr><th scope=row>4</th><td>1</td><td>2</td></tr>\n",
       "</tbody>\n",
       "</table>\n"
      ],
      "text/latex": [
       "A matrix: 4 × 2 of type dbl\n",
       "\\begin{tabular}{r|ll}\n",
       "  & (Intercept) & group\\\\\n",
       "\\hline\n",
       "\t1 & 1 & 1\\\\\n",
       "\t2 & 1 & 1\\\\\n",
       "\t3 & 1 & 2\\\\\n",
       "\t4 & 1 & 2\\\\\n",
       "\\end{tabular}\n"
      ],
      "text/markdown": [
       "\n",
       "A matrix: 4 × 2 of type dbl\n",
       "\n",
       "| <!--/--> | (Intercept) | group |\n",
       "|---|---|---|\n",
       "| 1 | 1 | 1 |\n",
       "| 2 | 1 | 1 |\n",
       "| 3 | 1 | 2 |\n",
       "| 4 | 1 | 2 |\n",
       "\n"
      ],
      "text/plain": [
       "  (Intercept) group\n",
       "1 1           1    \n",
       "2 1           1    \n",
       "3 1           2    \n",
       "4 1           2    "
      ]
     },
     "metadata": {},
     "output_type": "display_data"
    }
   ],
   "source": [
    "group <- c(1,1,2,2)\n",
    "model.matrix(~ group)"
   ]
  },
  {
   "cell_type": "markdown",
   "id": "bf10117a-6a92-439e-a3b8-7658aa095449",
   "metadata": {},
   "source": [
    "Esta **no** es la matriz de diseño que queríamos, y la razón es que proporcionamos una variable numérica en lugar de un _indicador_ para las funciones `formula` y `model.matrix`, sin decir que estos números en realidad se referían a diferentes grupos Queremos que la segunda columna tenga solo 0 y 1, lo que indica la pertenencia al grupo.\n",
    "\n",
    "Una nota sobre los factores: los nombres de los niveles son irrelevantes para `model.matrix` y `lm`. Todo lo que importa es el orden. Por ejemplo:"
   ]
  },
  {
   "cell_type": "code",
   "execution_count": 4,
   "id": "e8866a1d-68f1-4612-ac49-2f73d4b8b73b",
   "metadata": {},
   "outputs": [
    {
     "data": {
      "text/html": [
       "<table class=\"dataframe\">\n",
       "<caption>A matrix: 4 × 2 of type dbl</caption>\n",
       "<thead>\n",
       "\t<tr><th></th><th scope=col>(Intercept)</th><th scope=col>grouphighfat</th></tr>\n",
       "</thead>\n",
       "<tbody>\n",
       "\t<tr><th scope=row>1</th><td>1</td><td>0</td></tr>\n",
       "\t<tr><th scope=row>2</th><td>1</td><td>0</td></tr>\n",
       "\t<tr><th scope=row>3</th><td>1</td><td>1</td></tr>\n",
       "\t<tr><th scope=row>4</th><td>1</td><td>1</td></tr>\n",
       "</tbody>\n",
       "</table>\n"
      ],
      "text/latex": [
       "A matrix: 4 × 2 of type dbl\n",
       "\\begin{tabular}{r|ll}\n",
       "  & (Intercept) & grouphighfat\\\\\n",
       "\\hline\n",
       "\t1 & 1 & 0\\\\\n",
       "\t2 & 1 & 0\\\\\n",
       "\t3 & 1 & 1\\\\\n",
       "\t4 & 1 & 1\\\\\n",
       "\\end{tabular}\n"
      ],
      "text/markdown": [
       "\n",
       "A matrix: 4 × 2 of type dbl\n",
       "\n",
       "| <!--/--> | (Intercept) | grouphighfat |\n",
       "|---|---|---|\n",
       "| 1 | 1 | 0 |\n",
       "| 2 | 1 | 0 |\n",
       "| 3 | 1 | 1 |\n",
       "| 4 | 1 | 1 |\n",
       "\n"
      ],
      "text/plain": [
       "  (Intercept) grouphighfat\n",
       "1 1           0           \n",
       "2 1           0           \n",
       "3 1           1           \n",
       "4 1           1           "
      ]
     },
     "metadata": {},
     "output_type": "display_data"
    }
   ],
   "source": [
    "group <- factor(c(\"control\",\"control\",\"highfat\",\"highfat\"))\n",
    "model.matrix(~ group)"
   ]
  },
  {
   "cell_type": "code",
   "execution_count": 1,
   "id": "3fbe1940-f1cb-443e-8332-02868f3aadd1",
   "metadata": {},
   "outputs": [
    {
     "data": {
      "text/html": [
       "<table class=\"dataframe\">\n",
       "<caption>A matrix: 4 × 2 of type dbl</caption>\n",
       "<thead>\n",
       "\t<tr><th></th><th scope=col>(Intercept)</th><th scope=col>grouphighfat</th></tr>\n",
       "</thead>\n",
       "<tbody>\n",
       "\t<tr><th scope=row>1</th><td>1</td><td>0</td></tr>\n",
       "\t<tr><th scope=row>2</th><td>1</td><td>1</td></tr>\n",
       "\t<tr><th scope=row>3</th><td>1</td><td>0</td></tr>\n",
       "\t<tr><th scope=row>4</th><td>1</td><td>1</td></tr>\n",
       "</tbody>\n",
       "</table>\n"
      ],
      "text/latex": [
       "A matrix: 4 × 2 of type dbl\n",
       "\\begin{tabular}{r|ll}\n",
       "  & (Intercept) & grouphighfat\\\\\n",
       "\\hline\n",
       "\t1 & 1 & 0\\\\\n",
       "\t2 & 1 & 1\\\\\n",
       "\t3 & 1 & 0\\\\\n",
       "\t4 & 1 & 1\\\\\n",
       "\\end{tabular}\n"
      ],
      "text/markdown": [
       "\n",
       "A matrix: 4 × 2 of type dbl\n",
       "\n",
       "| <!--/--> | (Intercept) | grouphighfat |\n",
       "|---|---|---|\n",
       "| 1 | 1 | 0 |\n",
       "| 2 | 1 | 1 |\n",
       "| 3 | 1 | 0 |\n",
       "| 4 | 1 | 1 |\n",
       "\n"
      ],
      "text/plain": [
       "  (Intercept) grouphighfat\n",
       "1 1           0           \n",
       "2 1           1           \n",
       "3 1           0           \n",
       "4 1           1           "
      ]
     },
     "metadata": {},
     "output_type": "display_data"
    }
   ],
   "source": [
    "group <- factor(c(\"control\",\"highfat\",\"control\",\"highfat\"))\n",
    "model.matrix(~ group)"
   ]
  },
  {
   "cell_type": "markdown",
   "id": "46598619-3241-4ca0-8114-bc6362fd879f",
   "metadata": {},
   "source": [
    "produce la misma matriz de diseño que nuestro primer fragmento de código.\n",
    "\n",
    "#### Más grupos\n",
    "\n",
    "Usando la misma fórmula, podemos acomodar el modelado de más grupos. Supongamos que tenemos una tercera dieta:"
   ]
  },
  {
   "cell_type": "code",
   "execution_count": 5,
   "id": "36774851-6629-4d86-825e-00dc3e4692ab",
   "metadata": {},
   "outputs": [
    {
     "data": {
      "text/html": [
       "<table class=\"dataframe\">\n",
       "<caption>A matrix: 6 × 3 of type dbl</caption>\n",
       "<thead>\n",
       "\t<tr><th></th><th scope=col>(Intercept)</th><th scope=col>group2</th><th scope=col>group3</th></tr>\n",
       "</thead>\n",
       "<tbody>\n",
       "\t<tr><th scope=row>1</th><td>1</td><td>0</td><td>0</td></tr>\n",
       "\t<tr><th scope=row>2</th><td>1</td><td>0</td><td>0</td></tr>\n",
       "\t<tr><th scope=row>3</th><td>1</td><td>1</td><td>0</td></tr>\n",
       "\t<tr><th scope=row>4</th><td>1</td><td>1</td><td>0</td></tr>\n",
       "\t<tr><th scope=row>5</th><td>1</td><td>0</td><td>1</td></tr>\n",
       "\t<tr><th scope=row>6</th><td>1</td><td>0</td><td>1</td></tr>\n",
       "</tbody>\n",
       "</table>\n"
      ],
      "text/latex": [
       "A matrix: 6 × 3 of type dbl\n",
       "\\begin{tabular}{r|lll}\n",
       "  & (Intercept) & group2 & group3\\\\\n",
       "\\hline\n",
       "\t1 & 1 & 0 & 0\\\\\n",
       "\t2 & 1 & 0 & 0\\\\\n",
       "\t3 & 1 & 1 & 0\\\\\n",
       "\t4 & 1 & 1 & 0\\\\\n",
       "\t5 & 1 & 0 & 1\\\\\n",
       "\t6 & 1 & 0 & 1\\\\\n",
       "\\end{tabular}\n"
      ],
      "text/markdown": [
       "\n",
       "A matrix: 6 × 3 of type dbl\n",
       "\n",
       "| <!--/--> | (Intercept) | group2 | group3 |\n",
       "|---|---|---|---|\n",
       "| 1 | 1 | 0 | 0 |\n",
       "| 2 | 1 | 0 | 0 |\n",
       "| 3 | 1 | 1 | 0 |\n",
       "| 4 | 1 | 1 | 0 |\n",
       "| 5 | 1 | 0 | 1 |\n",
       "| 6 | 1 | 0 | 1 |\n",
       "\n"
      ],
      "text/plain": [
       "  (Intercept) group2 group3\n",
       "1 1           0      0     \n",
       "2 1           0      0     \n",
       "3 1           1      0     \n",
       "4 1           1      0     \n",
       "5 1           0      1     \n",
       "6 1           0      1     "
      ]
     },
     "metadata": {},
     "output_type": "display_data"
    }
   ],
   "source": [
    "group <- factor(c(1,1,2,2,3,3))\n",
    "model.matrix(~ group)"
   ]
  },
  {
   "cell_type": "markdown",
   "id": "2980457c-c3a6-4a20-90a0-ad6f37f37d88",
   "metadata": {},
   "source": [
    "Ahora tenemos una tercera columna que especifica qué muestras pertenecen al tercer grupo.\n",
    "\n",
    "Es posible una formulación alternativa de la matriz de diseño especificando `+ 0` en la fórmula:"
   ]
  },
  {
   "cell_type": "code",
   "execution_count": 6,
   "id": "b9de2134-4531-4b3f-a263-b579935ad666",
   "metadata": {},
   "outputs": [
    {
     "data": {
      "text/html": [
       "<table class=\"dataframe\">\n",
       "<caption>A matrix: 6 × 3 of type dbl</caption>\n",
       "<thead>\n",
       "\t<tr><th></th><th scope=col>group1</th><th scope=col>group2</th><th scope=col>group3</th></tr>\n",
       "</thead>\n",
       "<tbody>\n",
       "\t<tr><th scope=row>1</th><td>1</td><td>0</td><td>0</td></tr>\n",
       "\t<tr><th scope=row>2</th><td>1</td><td>0</td><td>0</td></tr>\n",
       "\t<tr><th scope=row>3</th><td>0</td><td>1</td><td>0</td></tr>\n",
       "\t<tr><th scope=row>4</th><td>0</td><td>1</td><td>0</td></tr>\n",
       "\t<tr><th scope=row>5</th><td>0</td><td>0</td><td>1</td></tr>\n",
       "\t<tr><th scope=row>6</th><td>0</td><td>0</td><td>1</td></tr>\n",
       "</tbody>\n",
       "</table>\n"
      ],
      "text/latex": [
       "A matrix: 6 × 3 of type dbl\n",
       "\\begin{tabular}{r|lll}\n",
       "  & group1 & group2 & group3\\\\\n",
       "\\hline\n",
       "\t1 & 1 & 0 & 0\\\\\n",
       "\t2 & 1 & 0 & 0\\\\\n",
       "\t3 & 0 & 1 & 0\\\\\n",
       "\t4 & 0 & 1 & 0\\\\\n",
       "\t5 & 0 & 0 & 1\\\\\n",
       "\t6 & 0 & 0 & 1\\\\\n",
       "\\end{tabular}\n"
      ],
      "text/markdown": [
       "\n",
       "A matrix: 6 × 3 of type dbl\n",
       "\n",
       "| <!--/--> | group1 | group2 | group3 |\n",
       "|---|---|---|---|\n",
       "| 1 | 1 | 0 | 0 |\n",
       "| 2 | 1 | 0 | 0 |\n",
       "| 3 | 0 | 1 | 0 |\n",
       "| 4 | 0 | 1 | 0 |\n",
       "| 5 | 0 | 0 | 1 |\n",
       "| 6 | 0 | 0 | 1 |\n",
       "\n"
      ],
      "text/plain": [
       "  group1 group2 group3\n",
       "1 1      0      0     \n",
       "2 1      0      0     \n",
       "3 0      1      0     \n",
       "4 0      1      0     \n",
       "5 0      0      1     \n",
       "6 0      0      1     "
      ]
     },
     "metadata": {},
     "output_type": "display_data"
    }
   ],
   "source": [
    "group <- factor(c(1,1,2,2,3,3))\n",
    "model.matrix(~ group + 0)"
   ]
  },
  {
   "cell_type": "markdown",
   "id": "83b2b2a0-de87-4492-89c8-b890c3bd2371",
   "metadata": {},
   "source": [
    "Este grupo ahora ajusta un coeficiente separado para cada grupo. Exploraremos este diseño con más profundidad más adelante.\n",
    "\n",
    "#### Más variables\n",
    "\n",
    "Hemos estado usando un caso simple con solo una variable (dieta) como ejemplo. En las ciencias de la vida, es bastante común realizar experimentos con más de una variable. Por ejemplo, nos puede interesar el efecto de la dieta y la diferencia de sexos. En este caso, tenemos cuatro grupos posibles:"
   ]
  },
  {
   "cell_type": "code",
   "execution_count": 7,
   "id": "39f7015f-9e4a-480e-8656-22a6034826ed",
   "metadata": {},
   "outputs": [
    {
     "data": {
      "text/plain": [
       "    sex\n",
       "diet f m\n",
       "   1 2 2\n",
       "   2 2 2"
      ]
     },
     "metadata": {},
     "output_type": "display_data"
    }
   ],
   "source": [
    "diet <- factor(c(1,1,1,1,2,2,2,2))\n",
    "sex <- factor(c(\"f\",\"f\",\"m\",\"m\",\"f\",\"f\",\"m\",\"m\"))\n",
    "table(diet,sex)"
   ]
  },
  {
   "cell_type": "markdown",
   "id": "b5906da2-cad3-4646-aa80-06c4830a855f",
   "metadata": {},
   "source": [
    "Si asumimos que el efecto de la dieta es el mismo para hombres y mujeres (esto es una suposición), entonces nuestro modelo lineal es:\n",
    "\n",
    "$$\n",
    "Y_{i}= \\beta_0 + \\beta_1 x_{i,1} + \\beta_2 x_{i,2} + \\varepsilon_i \n",
    "$$\n",
    "\n",
    "Para ajustar este modelo en R, simplemente podemos agregar la variable adicional con un signo `+` para construir una matriz de diseño que se ajuste según la información de las variables adicionales:"
   ]
  },
  {
   "cell_type": "code",
   "execution_count": 21,
   "id": "111886d0-f25e-4885-a950-17d6d268657e",
   "metadata": {},
   "outputs": [
    {
     "data": {
      "text/html": [
       "<table class=\"dataframe\">\n",
       "<caption>A matrix: 8 × 3 of type dbl</caption>\n",
       "<thead>\n",
       "\t<tr><th></th><th scope=col>(Intercept)</th><th scope=col>diet2</th><th scope=col>sexm</th></tr>\n",
       "</thead>\n",
       "<tbody>\n",
       "\t<tr><th scope=row>1</th><td>1</td><td>0</td><td>0</td></tr>\n",
       "\t<tr><th scope=row>2</th><td>1</td><td>0</td><td>0</td></tr>\n",
       "\t<tr><th scope=row>3</th><td>1</td><td>0</td><td>1</td></tr>\n",
       "\t<tr><th scope=row>4</th><td>1</td><td>0</td><td>1</td></tr>\n",
       "\t<tr><th scope=row>5</th><td>1</td><td>1</td><td>0</td></tr>\n",
       "\t<tr><th scope=row>6</th><td>1</td><td>1</td><td>0</td></tr>\n",
       "\t<tr><th scope=row>7</th><td>1</td><td>1</td><td>1</td></tr>\n",
       "\t<tr><th scope=row>8</th><td>1</td><td>1</td><td>1</td></tr>\n",
       "</tbody>\n",
       "</table>\n"
      ],
      "text/latex": [
       "A matrix: 8 × 3 of type dbl\n",
       "\\begin{tabular}{r|lll}\n",
       "  & (Intercept) & diet2 & sexm\\\\\n",
       "\\hline\n",
       "\t1 & 1 & 0 & 0\\\\\n",
       "\t2 & 1 & 0 & 0\\\\\n",
       "\t3 & 1 & 0 & 1\\\\\n",
       "\t4 & 1 & 0 & 1\\\\\n",
       "\t5 & 1 & 1 & 0\\\\\n",
       "\t6 & 1 & 1 & 0\\\\\n",
       "\t7 & 1 & 1 & 1\\\\\n",
       "\t8 & 1 & 1 & 1\\\\\n",
       "\\end{tabular}\n"
      ],
      "text/markdown": [
       "\n",
       "A matrix: 8 × 3 of type dbl\n",
       "\n",
       "| <!--/--> | (Intercept) | diet2 | sexm |\n",
       "|---|---|---|---|\n",
       "| 1 | 1 | 0 | 0 |\n",
       "| 2 | 1 | 0 | 0 |\n",
       "| 3 | 1 | 0 | 1 |\n",
       "| 4 | 1 | 0 | 1 |\n",
       "| 5 | 1 | 1 | 0 |\n",
       "| 6 | 1 | 1 | 0 |\n",
       "| 7 | 1 | 1 | 1 |\n",
       "| 8 | 1 | 1 | 1 |\n",
       "\n"
      ],
      "text/plain": [
       "  (Intercept) diet2 sexm\n",
       "1 1           0     0   \n",
       "2 1           0     0   \n",
       "3 1           0     1   \n",
       "4 1           0     1   \n",
       "5 1           1     0   \n",
       "6 1           1     0   \n",
       "7 1           1     1   \n",
       "8 1           1     1   "
      ]
     },
     "metadata": {},
     "output_type": "display_data"
    }
   ],
   "source": [
    "diet <- factor(c(1,1,1,1,2,2,2,2))\n",
    "sex <- factor(c(\"f\",\"f\",\"m\",\"m\",\"f\",\"f\",\"m\",\"m\"))\n",
    "model.matrix(~ diet + sex)"
   ]
  },
  {
   "cell_type": "markdown",
   "id": "ff4da804-ef6c-4621-bff6-d54f5fdec2d9",
   "metadata": {},
   "source": [
    "La matriz de diseño incluye una intersección, un término para \"dieta\" y un término para \"sexo\". Diríamos que este modelo lineal explica las diferencias tanto en las variables de grupo como de condición. Sin embargo, como se mencionó anteriormente, el modelo asume que el efecto de la dieta es el mismo para hombres y mujeres. Decimos que estos son un efecto _aditivo_. Para cada variable, agregamos un efecto independientemente de cuál sea el otro. Aquí es posible otro modelo, que se ajusta a un término adicional y que codifica la interacción potencial de las variables de grupo y condición. Cubriremos los términos de interacción en profundidad en un guión posterior.\n",
    "\n",
    "El modelo de interacción se puede escribir en cualquiera de las dos fórmulas siguientes:"
   ]
  },
  {
   "cell_type": "code",
   "execution_count": 9,
   "id": "dc9ec35c-6a40-4966-b841-932506b2d3a4",
   "metadata": {},
   "outputs": [
    {
     "data": {
      "text/html": [
       "<table class=\"dataframe\">\n",
       "<caption>A matrix: 8 × 4 of type dbl</caption>\n",
       "<thead>\n",
       "\t<tr><th></th><th scope=col>(Intercept)</th><th scope=col>diet2</th><th scope=col>sexm</th><th scope=col>diet2:sexm</th></tr>\n",
       "</thead>\n",
       "<tbody>\n",
       "\t<tr><th scope=row>1</th><td>1</td><td>0</td><td>0</td><td>0</td></tr>\n",
       "\t<tr><th scope=row>2</th><td>1</td><td>0</td><td>0</td><td>0</td></tr>\n",
       "\t<tr><th scope=row>3</th><td>1</td><td>0</td><td>1</td><td>0</td></tr>\n",
       "\t<tr><th scope=row>4</th><td>1</td><td>0</td><td>1</td><td>0</td></tr>\n",
       "\t<tr><th scope=row>5</th><td>1</td><td>1</td><td>0</td><td>0</td></tr>\n",
       "\t<tr><th scope=row>6</th><td>1</td><td>1</td><td>0</td><td>0</td></tr>\n",
       "\t<tr><th scope=row>7</th><td>1</td><td>1</td><td>1</td><td>1</td></tr>\n",
       "\t<tr><th scope=row>8</th><td>1</td><td>1</td><td>1</td><td>1</td></tr>\n",
       "</tbody>\n",
       "</table>\n"
      ],
      "text/latex": [
       "A matrix: 8 × 4 of type dbl\n",
       "\\begin{tabular}{r|llll}\n",
       "  & (Intercept) & diet2 & sexm & diet2:sexm\\\\\n",
       "\\hline\n",
       "\t1 & 1 & 0 & 0 & 0\\\\\n",
       "\t2 & 1 & 0 & 0 & 0\\\\\n",
       "\t3 & 1 & 0 & 1 & 0\\\\\n",
       "\t4 & 1 & 0 & 1 & 0\\\\\n",
       "\t5 & 1 & 1 & 0 & 0\\\\\n",
       "\t6 & 1 & 1 & 0 & 0\\\\\n",
       "\t7 & 1 & 1 & 1 & 1\\\\\n",
       "\t8 & 1 & 1 & 1 & 1\\\\\n",
       "\\end{tabular}\n"
      ],
      "text/markdown": [
       "\n",
       "A matrix: 8 × 4 of type dbl\n",
       "\n",
       "| <!--/--> | (Intercept) | diet2 | sexm | diet2:sexm |\n",
       "|---|---|---|---|---|\n",
       "| 1 | 1 | 0 | 0 | 0 |\n",
       "| 2 | 1 | 0 | 0 | 0 |\n",
       "| 3 | 1 | 0 | 1 | 0 |\n",
       "| 4 | 1 | 0 | 1 | 0 |\n",
       "| 5 | 1 | 1 | 0 | 0 |\n",
       "| 6 | 1 | 1 | 0 | 0 |\n",
       "| 7 | 1 | 1 | 1 | 1 |\n",
       "| 8 | 1 | 1 | 1 | 1 |\n",
       "\n"
      ],
      "text/plain": [
       "  (Intercept) diet2 sexm diet2:sexm\n",
       "1 1           0     0    0         \n",
       "2 1           0     0    0         \n",
       "3 1           0     1    0         \n",
       "4 1           0     1    0         \n",
       "5 1           1     0    0         \n",
       "6 1           1     0    0         \n",
       "7 1           1     1    1         \n",
       "8 1           1     1    1         "
      ]
     },
     "metadata": {},
     "output_type": "display_data"
    }
   ],
   "source": [
    "model.matrix(~ diet + sex + diet:sex)"
   ]
  },
  {
   "cell_type": "markdown",
   "id": "f34034ee-a298-47a1-ae47-9028e25760ee",
   "metadata": {},
   "source": [
    "o"
   ]
  },
  {
   "cell_type": "code",
   "execution_count": 10,
   "id": "ae193879-9fea-4d38-a9f2-137cd9875e50",
   "metadata": {},
   "outputs": [
    {
     "data": {
      "text/html": [
       "<table class=\"dataframe\">\n",
       "<caption>A matrix: 8 × 4 of type dbl</caption>\n",
       "<thead>\n",
       "\t<tr><th></th><th scope=col>(Intercept)</th><th scope=col>diet2</th><th scope=col>sexm</th><th scope=col>diet2:sexm</th></tr>\n",
       "</thead>\n",
       "<tbody>\n",
       "\t<tr><th scope=row>1</th><td>1</td><td>0</td><td>0</td><td>0</td></tr>\n",
       "\t<tr><th scope=row>2</th><td>1</td><td>0</td><td>0</td><td>0</td></tr>\n",
       "\t<tr><th scope=row>3</th><td>1</td><td>0</td><td>1</td><td>0</td></tr>\n",
       "\t<tr><th scope=row>4</th><td>1</td><td>0</td><td>1</td><td>0</td></tr>\n",
       "\t<tr><th scope=row>5</th><td>1</td><td>1</td><td>0</td><td>0</td></tr>\n",
       "\t<tr><th scope=row>6</th><td>1</td><td>1</td><td>0</td><td>0</td></tr>\n",
       "\t<tr><th scope=row>7</th><td>1</td><td>1</td><td>1</td><td>1</td></tr>\n",
       "\t<tr><th scope=row>8</th><td>1</td><td>1</td><td>1</td><td>1</td></tr>\n",
       "</tbody>\n",
       "</table>\n"
      ],
      "text/latex": [
       "A matrix: 8 × 4 of type dbl\n",
       "\\begin{tabular}{r|llll}\n",
       "  & (Intercept) & diet2 & sexm & diet2:sexm\\\\\n",
       "\\hline\n",
       "\t1 & 1 & 0 & 0 & 0\\\\\n",
       "\t2 & 1 & 0 & 0 & 0\\\\\n",
       "\t3 & 1 & 0 & 1 & 0\\\\\n",
       "\t4 & 1 & 0 & 1 & 0\\\\\n",
       "\t5 & 1 & 1 & 0 & 0\\\\\n",
       "\t6 & 1 & 1 & 0 & 0\\\\\n",
       "\t7 & 1 & 1 & 1 & 1\\\\\n",
       "\t8 & 1 & 1 & 1 & 1\\\\\n",
       "\\end{tabular}\n"
      ],
      "text/markdown": [
       "\n",
       "A matrix: 8 × 4 of type dbl\n",
       "\n",
       "| <!--/--> | (Intercept) | diet2 | sexm | diet2:sexm |\n",
       "|---|---|---|---|---|\n",
       "| 1 | 1 | 0 | 0 | 0 |\n",
       "| 2 | 1 | 0 | 0 | 0 |\n",
       "| 3 | 1 | 0 | 1 | 0 |\n",
       "| 4 | 1 | 0 | 1 | 0 |\n",
       "| 5 | 1 | 1 | 0 | 0 |\n",
       "| 6 | 1 | 1 | 0 | 0 |\n",
       "| 7 | 1 | 1 | 1 | 1 |\n",
       "| 8 | 1 | 1 | 1 | 1 |\n",
       "\n"
      ],
      "text/plain": [
       "  (Intercept) diet2 sexm diet2:sexm\n",
       "1 1           0     0    0         \n",
       "2 1           0     0    0         \n",
       "3 1           0     1    0         \n",
       "4 1           0     1    0         \n",
       "5 1           1     0    0         \n",
       "6 1           1     0    0         \n",
       "7 1           1     1    1         \n",
       "8 1           1     1    1         "
      ]
     },
     "metadata": {},
     "output_type": "display_data"
    }
   ],
   "source": [
    "model.matrix(~ diet*sex)"
   ]
  },
  {
   "cell_type": "markdown",
   "id": "8fe48e26-a029-42f9-a463-8499291f98a3",
   "metadata": {},
   "source": [
    "#### Renivelación\n",
    "\n",
    "El nivel que se elige como *nivel de referencia* es el nivel con el que se contrasta. Por defecto, este es simplemente el primer nivel alfabéticamente. Podemos especificar que queremos que el grupo 2 sea el nivel de referencia usando la función `relevel`:"
   ]
  },
  {
   "cell_type": "code",
   "execution_count": 4,
   "id": "b895e28f-458d-47d2-899c-5efdabb64cd9",
   "metadata": {},
   "outputs": [
    {
     "data": {
      "text/html": [
       "<table class=\"dataframe\">\n",
       "<caption>A matrix: 4 × 2 of type dbl</caption>\n",
       "<thead>\n",
       "\t<tr><th></th><th scope=col>(Intercept)</th><th scope=col>group1</th></tr>\n",
       "</thead>\n",
       "<tbody>\n",
       "\t<tr><th scope=row>1</th><td>1</td><td>1</td></tr>\n",
       "\t<tr><th scope=row>2</th><td>1</td><td>1</td></tr>\n",
       "\t<tr><th scope=row>3</th><td>1</td><td>0</td></tr>\n",
       "\t<tr><th scope=row>4</th><td>1</td><td>0</td></tr>\n",
       "</tbody>\n",
       "</table>\n"
      ],
      "text/latex": [
       "A matrix: 4 × 2 of type dbl\n",
       "\\begin{tabular}{r|ll}\n",
       "  & (Intercept) & group1\\\\\n",
       "\\hline\n",
       "\t1 & 1 & 1\\\\\n",
       "\t2 & 1 & 1\\\\\n",
       "\t3 & 1 & 0\\\\\n",
       "\t4 & 1 & 0\\\\\n",
       "\\end{tabular}\n"
      ],
      "text/markdown": [
       "\n",
       "A matrix: 4 × 2 of type dbl\n",
       "\n",
       "| <!--/--> | (Intercept) | group1 |\n",
       "|---|---|---|\n",
       "| 1 | 1 | 1 |\n",
       "| 2 | 1 | 1 |\n",
       "| 3 | 1 | 0 |\n",
       "| 4 | 1 | 0 |\n",
       "\n"
      ],
      "text/plain": [
       "  (Intercept) group1\n",
       "1 1           1     \n",
       "2 1           1     \n",
       "3 1           0     \n",
       "4 1           0     "
      ]
     },
     "metadata": {},
     "output_type": "display_data"
    }
   ],
   "source": [
    "group <- factor(c(1,1,2,2))\n",
    "group <- relevel(group, \"2\")\n",
    "model.matrix(~ group)"
   ]
  },
  {
   "cell_type": "markdown",
   "id": "20d54f00-8666-483f-a332-bf96051b4c98",
   "metadata": {},
   "source": [
    "o proporcionando los niveles explícitamente en la llamada a `factor`:"
   ]
  },
  {
   "cell_type": "code",
   "execution_count": 6,
   "id": "cd23633d-b5a2-4799-b33a-e9455857c289",
   "metadata": {},
   "outputs": [
    {
     "data": {
      "text/html": [
       "<table class=\"dataframe\">\n",
       "<caption>A matrix: 4 × 2 of type dbl</caption>\n",
       "<thead>\n",
       "\t<tr><th></th><th scope=col>(Intercept)</th><th scope=col>group2</th></tr>\n",
       "</thead>\n",
       "<tbody>\n",
       "\t<tr><th scope=row>1</th><td>1</td><td>0</td></tr>\n",
       "\t<tr><th scope=row>2</th><td>1</td><td>0</td></tr>\n",
       "\t<tr><th scope=row>3</th><td>1</td><td>1</td></tr>\n",
       "\t<tr><th scope=row>4</th><td>1</td><td>1</td></tr>\n",
       "</tbody>\n",
       "</table>\n"
      ],
      "text/latex": [
       "A matrix: 4 × 2 of type dbl\n",
       "\\begin{tabular}{r|ll}\n",
       "  & (Intercept) & group2\\\\\n",
       "\\hline\n",
       "\t1 & 1 & 0\\\\\n",
       "\t2 & 1 & 0\\\\\n",
       "\t3 & 1 & 1\\\\\n",
       "\t4 & 1 & 1\\\\\n",
       "\\end{tabular}\n"
      ],
      "text/markdown": [
       "\n",
       "A matrix: 4 × 2 of type dbl\n",
       "\n",
       "| <!--/--> | (Intercept) | group2 |\n",
       "|---|---|---|\n",
       "| 1 | 1 | 0 |\n",
       "| 2 | 1 | 0 |\n",
       "| 3 | 1 | 1 |\n",
       "| 4 | 1 | 1 |\n",
       "\n"
      ],
      "text/plain": [
       "  (Intercept) group2\n",
       "1 1           0     \n",
       "2 1           0     \n",
       "3 1           1     \n",
       "4 1           1     "
      ]
     },
     "metadata": {},
     "output_type": "display_data"
    }
   ],
   "source": [
    "group <- factor(group, levels=c(\"1\",\"2\"))\n",
    "model.matrix(~ group)"
   ]
  },
  {
   "cell_type": "markdown",
   "id": "58d91486-798b-4822-a5f6-f811b88decc1",
   "metadata": {},
   "source": [
    "#### ¿Dónde busca `model.matrix` los datos?\n",
    "\n",
    "La función `model.matrix` tomará la variable del entorno global de R, a menos que los datos se proporcionen explícitamente como un marco de datos para el argumento `data`:"
   ]
  },
  {
   "cell_type": "code",
   "execution_count": 13,
   "id": "f8ce6882-6866-4921-b9f2-2de7db732fd0",
   "metadata": {},
   "outputs": [
    {
     "data": {
      "text/html": [
       "<table class=\"dataframe\">\n",
       "<caption>A matrix: 4 × 2 of type dbl</caption>\n",
       "<thead>\n",
       "\t<tr><th></th><th scope=col>(Intercept)</th><th scope=col>group</th></tr>\n",
       "</thead>\n",
       "<tbody>\n",
       "\t<tr><th scope=row>1</th><td>1</td><td>5</td></tr>\n",
       "\t<tr><th scope=row>2</th><td>1</td><td>6</td></tr>\n",
       "\t<tr><th scope=row>3</th><td>1</td><td>7</td></tr>\n",
       "\t<tr><th scope=row>4</th><td>1</td><td>8</td></tr>\n",
       "</tbody>\n",
       "</table>\n"
      ],
      "text/latex": [
       "A matrix: 4 × 2 of type dbl\n",
       "\\begin{tabular}{r|ll}\n",
       "  & (Intercept) & group\\\\\n",
       "\\hline\n",
       "\t1 & 1 & 5\\\\\n",
       "\t2 & 1 & 6\\\\\n",
       "\t3 & 1 & 7\\\\\n",
       "\t4 & 1 & 8\\\\\n",
       "\\end{tabular}\n"
      ],
      "text/markdown": [
       "\n",
       "A matrix: 4 × 2 of type dbl\n",
       "\n",
       "| <!--/--> | (Intercept) | group |\n",
       "|---|---|---|\n",
       "| 1 | 1 | 5 |\n",
       "| 2 | 1 | 6 |\n",
       "| 3 | 1 | 7 |\n",
       "| 4 | 1 | 8 |\n",
       "\n"
      ],
      "text/plain": [
       "  (Intercept) group\n",
       "1 1           5    \n",
       "2 1           6    \n",
       "3 1           7    \n",
       "4 1           8    "
      ]
     },
     "metadata": {},
     "output_type": "display_data"
    }
   ],
   "source": [
    "group <- 1:4\n",
    "model.matrix(~ group, data=data.frame(group=5:8))"
   ]
  },
  {
   "cell_type": "markdown",
   "id": "5271910f-53a2-4a2d-9849-8c2aa77148a7",
   "metadata": {},
   "source": [
    "Observe cómo se ignora la variable de entorno global de R `group`.\n",
    "\n",
    "#### Variables continuas\n",
    "\n",
    "En este capítulo, nos centramos en modelos basados en valores de indicadores. En ciertos diseños, sin embargo, nos interesará usar variables numéricas en la fórmula de diseño, en lugar de convertirlas primero en factores. Por ejemplo, en el ejemplo del objeto que cae, el tiempo era una variable continua en el modelo y también se incluyó el tiempo al cuadrado:"
   ]
  },
  {
   "cell_type": "code",
   "execution_count": 14,
   "id": "9f5f8dad-2922-4c4e-a6aa-b0f1242eeaf1",
   "metadata": {},
   "outputs": [
    {
     "data": {
      "text/html": [
       "<table class=\"dataframe\">\n",
       "<caption>A matrix: 4 × 3 of type dbl</caption>\n",
       "<thead>\n",
       "\t<tr><th></th><th scope=col>(Intercept)</th><th scope=col>tt</th><th scope=col>I(tt^2)</th></tr>\n",
       "</thead>\n",
       "<tbody>\n",
       "\t<tr><th scope=row>1</th><td>1</td><td>0.000000</td><td> 0.000000</td></tr>\n",
       "\t<tr><th scope=row>2</th><td>1</td><td>1.133333</td><td> 1.284444</td></tr>\n",
       "\t<tr><th scope=row>3</th><td>1</td><td>2.266667</td><td> 5.137778</td></tr>\n",
       "\t<tr><th scope=row>4</th><td>1</td><td>3.400000</td><td>11.560000</td></tr>\n",
       "</tbody>\n",
       "</table>\n"
      ],
      "text/latex": [
       "A matrix: 4 × 3 of type dbl\n",
       "\\begin{tabular}{r|lll}\n",
       "  & (Intercept) & tt & I(tt\\textasciicircum{}2)\\\\\n",
       "\\hline\n",
       "\t1 & 1 & 0.000000 &  0.000000\\\\\n",
       "\t2 & 1 & 1.133333 &  1.284444\\\\\n",
       "\t3 & 1 & 2.266667 &  5.137778\\\\\n",
       "\t4 & 1 & 3.400000 & 11.560000\\\\\n",
       "\\end{tabular}\n"
      ],
      "text/markdown": [
       "\n",
       "A matrix: 4 × 3 of type dbl\n",
       "\n",
       "| <!--/--> | (Intercept) | tt | I(tt^2) |\n",
       "|---|---|---|---|\n",
       "| 1 | 1 | 0.000000 |  0.000000 |\n",
       "| 2 | 1 | 1.133333 |  1.284444 |\n",
       "| 3 | 1 | 2.266667 |  5.137778 |\n",
       "| 4 | 1 | 3.400000 | 11.560000 |\n",
       "\n"
      ],
      "text/plain": [
       "  (Intercept) tt       I(tt^2)  \n",
       "1 1           0.000000  0.000000\n",
       "2 1           1.133333  1.284444\n",
       "3 1           2.266667  5.137778\n",
       "4 1           3.400000 11.560000"
      ]
     },
     "metadata": {},
     "output_type": "display_data"
    }
   ],
   "source": [
    "tt <- seq(0,3.4,len=4) \n",
    "model.matrix(~ tt + I(tt^2))"
   ]
  },
  {
   "cell_type": "markdown",
   "id": "24b0d0b6-780c-4820-b237-9d15abb23a60",
   "metadata": {},
   "source": [
    "La función 'I' anterior es necesaria para especificar una función matemática.\n",
    "transformación de una variable. Para más detalles, consulte la página del manual\n",
    "para la función `I` escribiendo `?I`.\n",
    "\n",
    "En las ciencias de la vida, podríamos estar interesados ​​en probar varios\n",
    "dosis de un tratamiento, donde esperamos una relación específica\n",
    "entre una cantidad medida y la dosificación, p. 0 mg, 10 mg, 20 mg.\n",
    "\n",
    "Las suposiciones impuestas al incluir datos continuos como variables suelen ser más difíciles de defender y motivar que las variables de función indicadora. Mientras que las variables indicadoras simplemente asumen una media diferente entre dos grupos, las variables continuas asumen una relación muy específica entre el resultado y las variables predictoras.\n",
    "\n",
    "En casos como el objeto que cae, tenemos la teoría de la gravitación apoyando el modelo. En el ejemplo de altura padre-hijo, debido a que los datos son normales bivariados, se deduce que existe una relación lineal si condicionamos. Sin embargo, encontramos que las variables continuas se incluyen en los modelos lineales sin justificación para \"ajustar\" por variables como la edad. Desaconsejamos enfáticamente esta práctica a menos que los datos respalden el modelo que se está utilizando."
   ]
  },
  {
   "cell_type": "code",
   "execution_count": null,
   "id": "f55be1d6-09d5-48d9-aa9d-efe6d75eac8d",
   "metadata": {},
   "outputs": [],
   "source": []
  }
 ],
 "metadata": {
  "kernelspec": {
   "display_name": "R",
   "language": "R",
   "name": "ir"
  },
  "language_info": {
   "codemirror_mode": "r",
   "file_extension": ".r",
   "mimetype": "text/x-r-source",
   "name": "R",
   "pygments_lexer": "r",
   "version": "4.0.2"
  }
 },
 "nbformat": 4,
 "nbformat_minor": 5
}
