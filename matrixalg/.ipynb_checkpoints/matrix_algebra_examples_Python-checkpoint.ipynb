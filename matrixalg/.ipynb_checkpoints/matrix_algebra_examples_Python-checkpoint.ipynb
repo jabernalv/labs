{
 "cells": [
  {
   "cell_type": "markdown",
   "id": "7fc7252a-24fc-4632-b086-a5a17787291d",
   "metadata": {},
   "source": [
    "## Ejemplos \n",
    "\n",
    "Ahora estamos listos para ver cómo el álgebra matricial puede ser útil al analizar datos. Comenzamos con algunos ejemplos simples y finalmente llegamos al principal: cómo escribir modelos lineales con notación de álgebra matricial y resolver el problema de mínimos cuadrados.\n",
    "\n",
    "\n",
    "#### El promedio\n",
    "\n",
    "Para calcular el promedio de la muestra y la varianza de nuestros datos, usamos estas fórmulas $\\bar{Y}=\\frac{1}{N} Y_i$ y $\\mbox{var}(Y)=\\frac{1}{N} \\sum_{i=1}^N (Y_i - \\bar{Y})^2$. Podemos representarlos con la multiplicación de matrices. Primero, define esto $N \\times 1$ matriz hecha solo de 1s:\n",
    "\n",
    "$$ A=\\begin{pmatrix}\n",
    "1\\\\\n",
    "1\\\\\n",
    "\\vdots\\\\\n",
    "1\n",
    "\\end{pmatrix}\n",
    "$$\n",
    "\n",
    "Esto implica que:\n",
    "\n",
    "$$\n",
    "\\frac{1}{N}\n",
    "\\mathbf{A}^\\top Y = \\frac{1}{N}\n",
    "\\begin{pmatrix}1&1&\\dots&1\\end{pmatrix}\n",
    "\\begin{pmatrix}\n",
    "Y_1\\\\\n",
    "Y_2\\\\\n",
    "\\vdots\\\\\n",
    "Y_N\n",
    "\\end{pmatrix}=\n",
    "\\frac{1}{N} \\sum_{i=1}^N Y_i\n",
    "= \\bar{Y}\n",
    "$$\n",
    "\n",
    "Tenga en cuenta que estamos multiplicando por el escalar $1/N$. En Python, multiplicamos matrices usando .dot():"
   ]
  },
  {
   "cell_type": "code",
   "execution_count": 1,
   "id": "e0866e6c-c667-4e90-a498-1c52d54598ef",
   "metadata": {},
   "outputs": [],
   "source": [
    "import numpy as np\n",
    "import pandas as pd\n",
    "import matplotlib as mpl\n",
    "import matplotlib.pyplot as plt\n",
    "import seaborn as sns\n",
    "import random\n",
    "%matplotlib inline"
   ]
  },
  {
   "cell_type": "code",
   "execution_count": 2,
   "id": "9613a996-1135-4c6d-8f46-cc52a91b4939",
   "metadata": {},
   "outputs": [
    {
     "name": "stdout",
     "output_type": "stream",
     "text": [
      "Media de las estaturas de los hijos calculada con mean 68.68406965677181\n",
      "Media de las estaturas de los hijos calculada con multiplicación matricial 68.6840696567718\n"
     ]
    }
   ],
   "source": [
    "father_son = pd.read_csv('https://raw.githubusercontent.com/jabernalv/Father-Son-height/master/Pearson.csv')\n",
    "sheight = father_son.sheight\n",
    "print('Media de las estaturas de los hijos calculada con mean', np.mean(sheight))\n",
    "N = sheight.shape[0] # Tamaño del conjunto de datos\n",
    "SHEIGHT = np.array(sheight) # Se convierte el conjunto de estaturas de los hijos a una matriz\n",
    "A = np.array(np.repeat(1, N)) # Creamos una matriz de solo unos\n",
    "mediaSHEIGHT = np.transpose(A).dot(SHEIGHT) / N # Multiplicación matricial y se divide entre el número de datos\n",
    "\n",
    "print('Media de las estaturas de los hijos calculada con multiplicación matricial', mediaSHEIGHT)\n",
    "# Como se puede ver se obtiene la media"
   ]
  },
  {
   "cell_type": "markdown",
   "id": "a9d08bab-8d98-43d9-bd0f-3ad9384677ee",
   "metadata": {},
   "source": [
    "Como veremos más adelante, multiplicar la transpuesta de una matriz por otra es muy común en estadística. En Python otra manera de realizarlo es usando la función T que devuelve la matriz transpuesta:"
   ]
  },
  {
   "cell_type": "code",
   "execution_count": 3,
   "id": "204eca53-64e3-43f6-9c4b-d36bfaf87d1f",
   "metadata": {},
   "outputs": [
    {
     "name": "stdout",
     "output_type": "stream",
     "text": [
      "Media de las estaturas de los hijos calculada con T y dividido por N 68.6840696567718\n"
     ]
    }
   ],
   "source": [
    "mediaSHEIGHT=A.T.dot(SHEIGHT) / N\n",
    "print('Media de las estaturas de los hijos calculada con T y dividido por N', mediaSHEIGHT) "
   ]
  },
  {
   "cell_type": "markdown",
   "id": "96f99443-37f4-425a-82d3-00d62e5c601a",
   "metadata": {},
   "source": [
    "#### La varianza\n",
    "Para la varianza, observamos que si:\n",
    "\n",
    "$$\n",
    "\\mathbf{r}\\equiv \\begin{pmatrix}\n",
    "Y_1 - \\bar{Y}\\\\\n",
    "\\vdots\\\\\n",
    "Y_N - \\bar{Y}\n",
    "\\end{pmatrix}, \\,\\,\n",
    "\\frac{1}{N} \\mathbf{r}^\\top\\mathbf{r} = \n",
    "\\frac{1}{N}\\sum_{i=1}^N (Y_i - \\bar{Y})^2\n",
    "$$\n",
    "En R, si solo envía una matriz a `crossprod`, calcula: $r^\\top r$, por lo que simplemente podemos escribir:"
   ]
  },
  {
   "cell_type": "code",
   "execution_count": 4,
   "id": "f3ea994c-3cee-490a-bcfc-d8d16c407aa9",
   "metadata": {},
   "outputs": [
    {
     "name": "stdout",
     "output_type": "stream",
     "text": [
      "7.915195757881051\n"
     ]
    }
   ],
   "source": [
    "diferencias_con_media = sheight - mediaSHEIGHT # \n",
    "print(diferencias_con_media.T.dot(diferencias_con_media) / N)"
   ]
  },
  {
   "cell_type": "markdown",
   "id": "6b490c36-9263-4957-8624-a066b970ebdb",
   "metadata": {},
   "source": [
    "Lo que es casi equivalente a:"
   ]
  },
  {
   "cell_type": "code",
   "execution_count": 5,
   "id": "746ca94a-4ae3-44cc-9988-cebe9958cca3",
   "metadata": {},
   "outputs": [
    {
     "data": {
      "text/plain": [
       "7.915195757881051"
      ]
     },
     "execution_count": 5,
     "metadata": {},
     "output_type": "execute_result"
    }
   ],
   "source": [
    "import statistics\n",
    "statistics.pvariance(sheight) "
   ]
  },
  {
   "cell_type": "markdown",
   "id": "2959ca03-46ad-4bad-b6fe-18ccd71859e8",
   "metadata": {},
   "source": [
    "#### Modelos lineales\n",
    "\n",
    "Ahora estamos listos para poner todo esto en uso. Comencemos con el ejemplo de Galton. Si definimos estas matrices:\n",
    " \n",
    "$$\n",
    "\\mathbf{Y} = \\begin{pmatrix}\n",
    "Y_1\\\\\n",
    "Y_2\\\\\n",
    "\\vdots\\\\\n",
    "Y_N\n",
    "\\end{pmatrix}\n",
    ",\n",
    "\\mathbf{X} = \\begin{pmatrix}\n",
    "1&x_1\\\\\n",
    "1&x_2\\\\\n",
    "\\vdots\\\\\n",
    "1&x_N\n",
    "\\end{pmatrix}\n",
    ",\n",
    "\\mathbf{\\beta} = \\begin{pmatrix}\n",
    "\\beta_0\\\\\n",
    "\\beta_1\n",
    "\\end{pmatrix} \\mbox{ and }\n",
    "\\mathbf{\\varepsilon} = \\begin{pmatrix}\n",
    "\\varepsilon_1\\\\\n",
    "\\varepsilon_2\\\\\n",
    "\\vdots\\\\\n",
    "\\varepsilon_N\n",
    "\\end{pmatrix}\n",
    "$$\n",
    "\n",
    "Entonces podemos escribir el modelo:\n",
    "\n",
    "$$\n",
    "Y_i = \\beta_0 + \\beta_1 x_i + \\varepsilon_i, i=1,\\dots,N\n",
    "$$\n",
    "\n",
    "como:\n",
    "\n",
    "$$\n",
    "\\,\n",
    "\\begin{matrix}\n",
    "Y_1\\\\\n",
    "Y_2\\\\\n",
    "\\vdots\\\\\n",
    "Y_N\n",
    "\\end{matrix} =\n",
    "\\begin{matrix}\n",
    "1&x_1\\\\\n",
    "1&x_2\\\\\n",
    "\\vdots\\\\\n",
    "1&x_N\n",
    "\\end{matrix}\n",
    "\\begin{matrix}\n",
    "\\beta_0\\\\\n",
    "\\beta_1\n",
    "\\end{matrix} +\n",
    "\\begin{matrix}\n",
    "\\varepsilon_1\\\\\n",
    "\\varepsilon_2\\\\\n",
    "\\vdots\\\\\n",
    "\\varepsilon_N\n",
    "\\end{matrix}\n",
    "$$\n",
    "\n",
    "o simplemente:\n",
    "$$\n",
    "\\mathbf{Y}=\\mathbf{X}\\boldsymbol{\\beta}+\\boldsymbol{\\varepsilon}\n",
    "$$\n",
    "\n",
    "que es una forma mucho más sencilla de escribirlo.\n",
    "\n",
    "\n",
    "La formulacion de minimos cuadrados tambien se vuelve mas simple ya que es el siguiente producto cruzado:\n",
    "\n",
    "$$\n",
    "(\\mathbf{Y}-\\mathbf{X}\\boldsymbol{\\beta})^\\top\n",
    "(\\mathbf{Y}-\\mathbf{X}\\boldsymbol{\\beta})\n",
    "$$\n",
    "\n",
    "Así que ahora estamos listos para determinar qué valores de $\\beta$ minimizan lo anterior, lo que podemos hacer usando cálculo para encontrar el mínimo.\n",
    "\n",
    "#### Avanzado: Encontrar el mínimo usando cálculo\n",
    "\n",
    "Hay una serie de reglas que nos permiten calcular ecuaciones en derivadas parciales en notación matricial. Igualando la derivada a 0 y resolviendo para $\\beta$, tendremos nuestra solución. El único que necesitamos aquí nos dice que la derivada de la ecuación anterior es:\n",
    "\n",
    "$$\n",
    "2 \\mathbf{X}^\\top (\\mathbf{Y} - \\mathbf{X} \\boldsymbol{\\hat{\\beta}})=0\n",
    "$$\n",
    "\n",
    "$$\n",
    "\\mathbf{X}^\\top (\\mathbf{Y} - \\mathbf{X} \\boldsymbol{\\hat{\\beta}})=\\dfrac{0}{2}\n",
    "$$\n",
    "\n",
    "$$\n",
    "\\mathbf{X}^\\top (\\mathbf{Y} - \\mathbf{X} \\boldsymbol{\\hat{\\beta}})=0\n",
    "$$\n",
    "\n",
    "$$\n",
    "\\mathbf{X}^\\top \\mathbf{Y} - \\mathbf{X}^\\top \\mathbf{X} \\boldsymbol{\\hat{\\beta}}=0\n",
    "$$\n",
    "\n",
    "$$\n",
    "\\mathbf{X}^\\top \\mathbf{Y} = \\mathbf{X}^\\top \\mathbf{X} \\boldsymbol{\\hat{\\beta}}\n",
    "$$\n",
    "\n",
    "$$\n",
    "\\boldsymbol{\\hat{\\beta}} = (\\mathbf{X}^\\top \\mathbf{X})^{-1} \\mathbf{X}^\\top \\mathbf{Y}\n",
    "$$\n",
    "\n",
    "y tenemos nuestra solución. Por lo general, ponemos un sombrero en el $\\beta$ que resuelve esto, $\\hat{\\beta}$ , ya que es una estimación del $\\beta$ \"real\" que generó los datos.\n",
    "\n",
    "Recuerda que los mínimos cuadrados son como un cuadrado (multiplicar algo por sí mismo) y que esta fórmula es similar a la derivada de $f(x)^2$ siendo $2f(x)f\\prime (x)$.\n",
    "\n",
    "\n",
    "#### Encontrar LSE en Python\n",
    "\n",
    "Veamos cómo funciona en Python:"
   ]
  },
  {
   "cell_type": "code",
   "execution_count": 6,
   "id": "47695482-c620-40e0-9847-60349db14571",
   "metadata": {},
   "outputs": [
    {
     "name": "stdout",
     "output_type": "stream",
     "text": [
      "[[33.88660435]\n",
      " [ 0.51409304]]\n"
     ]
    }
   ],
   "source": [
    "father_son = pd.read_csv('https://raw.githubusercontent.com/jabernalv/Father-Son-height/master/Pearson.csv')\n",
    "x=np.array(father_son.fheight)[..., None]\n",
    "y=np.array(father_son.sheight)[..., None]\n",
    "N = y.shape[0] # Tamaño del conjunto de datos\n",
    "unos = np.array(np.repeat(1, N))[..., None]\n",
    "X = np.concatenate((unos, x), axis=1)\n",
    "betahat = np.linalg.solve(X.T.dot(X), X.T.dot(y))\n",
    "print(betahat)"
   ]
  },
  {
   "cell_type": "markdown",
   "id": "bada8941-8e50-4072-a8d0-6e9abe1606fb",
   "metadata": {},
   "source": [
    "Ahora podemos ver los resultados de esto calculando el $\\hat{\\beta}_0+\\hat{\\beta}_1 x$ estimado para cualquier valor de $x$:"
   ]
  },
  {
   "cell_type": "code",
   "execution_count": 7,
   "id": "e340fc6d-beb0-45d3-b62f-a0e0cd5d8d13",
   "metadata": {
    "tags": []
   },
   "outputs": [
    {
     "data": {
      "text/plain": [
       "Text(0, 0.5, 'Estaturas de los hijos')"
      ]
     },
     "execution_count": 7,
     "metadata": {},
     "output_type": "execute_result"
    },
    {
     "data": {
      "image/png": "[encoded data removed]",
      "text/plain": [
       "<Figure size 432x288 with 1 Axes>"
      ]
     },
     "metadata": {
      "needs_background": "light"
     },
     "output_type": "display_data"
    }
   ],
   "source": [
    "newx = np.linspace(min(x), max(x), num=100)\n",
    "unos = np.array(np.repeat(1, 100))[..., None]\n",
    "X = np.concatenate((unos, newx), axis=1)\n",
    "fitted = X.dot(betahat)\n",
    "plt.plot(newx, fitted, 'r')\n",
    "plt.scatter(x, y, s = 8)\n",
    "plt.xlabel('Estaturas de los padres')\n",
    "plt.ylabel('Estaturas de los hijos')"
   ]
  },
  {
   "cell_type": "markdown",
   "id": "238fa3be-a0a2-4a5c-b971-ed764edad56e",
   "metadata": {},
   "source": [
    "Este $\\hat{\\boldsymbol{\\beta}}=(\\mathbf{X}^\\top \\mathbf{X})^{-1} \\mathbf{X}^\\top \\mathbf{Y}$ es uno de los resultados más utilizados en el análisis de datos. Una de las ventajas de este enfoque es que podemos usarlo en muchas situaciones diferentes. Por ejemplo, en nuestro problema de objetos que caen:"
   ]
  },
  {
   "cell_type": "code",
   "execution_count": 8,
   "id": "1b8df68a-a1f2-4371-8aa0-f2f4f65c2ec5",
   "metadata": {},
   "outputs": [],
   "source": [
    "np.random.seed(1)\n",
    "g = 9.8 # metros por segundo\n",
    "n = 25\n",
    "tt = np.linspace(0,3.4,num=n)[..., None] #time in secs, t is a base function\n",
    "rands = np.random.normal(0,1, n)[..., None]\n",
    "d = 56.67 - 0.5 * g * tt * tt + rands"
   ]
  },
  {
   "cell_type": "markdown",
   "id": "7e0af038-ac8f-43b4-bdbe-c0af1e0efc52",
   "metadata": {},
   "source": [
    "Tenga en cuenta que estamos usando casi el mismo código exacto:"
   ]
  },
  {
   "cell_type": "code",
   "execution_count": 9,
   "id": "db89aead-ad6b-47ac-9275-8114f48784d7",
   "metadata": {},
   "outputs": [
    {
     "data": {
      "text/plain": [
       "Text(0, 0.5, 'Altura')"
      ]
     },
     "execution_count": 9,
     "metadata": {},
     "output_type": "execute_result"
    },
    {
     "data": {
      "image/png": "[encoded data removed]",
      "text/plain": [
       "<Figure size 432x288 with 1 Axes>"
      ]
     },
     "metadata": {
      "needs_background": "light"
     },
     "output_type": "display_data"
    }
   ],
   "source": [
    "unos = np.array(np.repeat(1, n))[..., None]\n",
    "X = np.concatenate((unos, tt, tt * tt), axis=1)\n",
    "y = d\n",
    "betahat = np.linalg.solve(X.T.dot(X), X.T.dot(y))\n",
    "newtt = np.linspace(min(tt),max(tt),num=100)\n",
    "unos = np.array(np.repeat(1, 100))[..., None]\n",
    "X = np.concatenate((unos,newtt,newtt * newtt), axis=1)\n",
    "fitted = X.dot(betahat)\n",
    "plt.plot(newtt, fitted, 'r')\n",
    "plt.scatter(tt, y, s = 8)\n",
    "plt.xlabel('Tiempo')\n",
    "plt.ylabel('Altura')"
   ]
  },
  {
   "cell_type": "markdown",
   "id": "ab580099-add0-4799-8c14-3a5ef49f4806",
   "metadata": {},
   "source": [
    "Y las estimaciones resultantes son las que esperamos:"
   ]
  },
  {
   "cell_type": "code",
   "execution_count": 10,
   "id": "538c422c-a635-4490-a3fc-4917786695c7",
   "metadata": {},
   "outputs": [
    {
     "name": "stdout",
     "output_type": "stream",
     "text": [
      "[[56.96693454]\n",
      " [-0.89409612]\n",
      " [-4.5923186 ]]\n"
     ]
    }
   ],
   "source": [
    "print(betahat)"
   ]
  },
  {
   "cell_type": "markdown",
   "id": "70832a37-89a1-431b-a0f9-29370e5150d5",
   "metadata": {},
   "source": [
    "La Torre de Pisa tiene unos 56 metros de altura. Como solo estamos dejando caer el objeto, no hay velocidad inicial y la mitad de la constante de gravedad es 9,8/2 = 4,9 metros por segundo al cuadrado.\n",
    "\n",
    "#### La función `LinearRegression`\n",
    "En Python sklearn tiene una función muy conveniente que se adapta a estos modelos. Aprenderemos más sobre esta función más adelante, pero aquí hay una vista previa:"
   ]
  },
  {
   "cell_type": "code",
   "execution_count": 11,
   "id": "97d930a6-8ef3-4889-abae-5283c09ada8c",
   "metadata": {},
   "outputs": [
    {
     "name": "stdout",
     "output_type": "stream",
     "text": [
      "[56.96693454]\n",
      "[[-0.89409612 -4.5923186 ]]\n"
     ]
    }
   ],
   "source": [
    "X = np.concatenate((tt, tt * tt), axis=1)\n",
    "from sklearn.linear_model import LinearRegression\n",
    "model = LinearRegression()\n",
    "fit=model.fit(X, y)\n",
    "print(fit.intercept_)\n",
    "print(fit.coef_)"
   ]
  },
  {
   "cell_type": "markdown",
   "id": "88256a34-6bdb-40e2-bd82-9d3b76c23a37",
   "metadata": {},
   "source": [
    "Nótese que obtenemos los mismos valores que arriba.\n",
    "\n",
    "#### Resumen\n",
    "\n",
    "Hemos mostrado cómo escribir modelos lineales usando álgebra lineal. Vamos a hacer esto con varios ejemplos, muchos de los cuales están relacionados con experimentos diseñados. También demostramos cómo obtener estimaciones de mínimos cuadrados. No obstante, es importante recordar que debido a que $y$ es una variable aleatoria, estas estimaciones también son aleatorias. En una sección posterior, aprenderemos cómo calcular el error estándar para estas estimaciones y utilizarlo para realizar inferencias."
   ]
  }
 ],
 "metadata": {
  "kernelspec": {
   "display_name": "Python 3 (ipykernel)",
   "language": "python",
   "name": "python3"
  },
  "language_info": {
   "codemirror_mode": {
    "name": "ipython",
    "version": 3
   },
   "file_extension": ".py",
   "mimetype": "text/x-python",
   "name": "python",
   "nbconvert_exporter": "python",
   "pygments_lexer": "ipython3",
   "version": "3.9.7"
  }
 },
 "nbformat": 4,
 "nbformat_minor": 5
}
