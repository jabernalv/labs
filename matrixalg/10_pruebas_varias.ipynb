{
 "cells": [
  {
   "cell_type": "markdown",
   "id": "30523bd4-6d6a-4756-8870-5a1894dfc54d",
   "metadata": {},
   "source": [
    "El producto punto es conmutativo."
   ]
  },
  {
   "cell_type": "code",
   "execution_count": 3,
   "id": "f3bd17f4-d2f7-45d2-9fce-26530c40875b",
   "metadata": {},
   "outputs": [],
   "source": [
    "import numpy as np"
   ]
  },
  {
   "cell_type": "code",
   "execution_count": 13,
   "id": "164a10f9-694f-4928-b34d-10e449d23e37",
   "metadata": {},
   "outputs": [],
   "source": [
    "x = np.array([2, -5, -1])\n",
    "y = np.array((3, 2, -3))"
   ]
  },
  {
   "cell_type": "code",
   "execution_count": 14,
   "id": "8b0bb162-c5b5-4c6a-8088-7c8965129141",
   "metadata": {},
   "outputs": [
    {
     "name": "stdout",
     "output_type": "stream",
     "text": [
      "-1\n"
     ]
    }
   ],
   "source": [
    "print(x.dot(y))"
   ]
  },
  {
   "cell_type": "code",
   "execution_count": 15,
   "id": "15465366-d4f4-47f7-b24c-a1729b24b2a4",
   "metadata": {},
   "outputs": [
    {
     "name": "stdout",
     "output_type": "stream",
     "text": [
      "-1\n"
     ]
    }
   ],
   "source": [
    "print(y.dot(x))"
   ]
  },
  {
   "cell_type": "markdown",
   "id": "b691df89-3c6e-4338-b767-c90acb40096d",
   "metadata": {},
   "source": [
    "# Teoremas\n",
    "Sean $u$, $v$ y $w$ vectores en $\\Re^n$, y $c$ un escalar. Entonces,\n",
    "\n",
    "a) $u\\cdot v = v\\cdot u$\n",
    "\n",
    "b) $(u+v)\\cdot w=u\\cdot w+v\\cdot w$\n",
    "\n",
    "c) $(cu)\\cdot v=c(u\\cdot v) = u\\cdot (cv)$\n",
    "\n",
    "d) $u\\cdot u\\geqq 0$, y $u\\cdot u=0$ si y solo si $u=0$"
   ]
  },
  {
   "cell_type": "code",
   "execution_count": null,
   "id": "cbbf2ca7-b78d-423f-b938-ce2e6d387909",
   "metadata": {},
   "outputs": [],
   "source": []
  }
 ],
 "metadata": {
  "kernelspec": {
   "display_name": "Python 3 (ipykernel)",
   "language": "python",
   "name": "python3"
  },
  "language_info": {
   "codemirror_mode": {
    "name": "ipython",
    "version": 3
   },
   "file_extension": ".py",
   "mimetype": "text/x-python",
   "name": "python",
   "nbconvert_exporter": "python",
   "pygments_lexer": "ipython3",
   "version": "3.9.7"
  }
 },
 "nbformat": 4,
 "nbformat_minor": 5
}
